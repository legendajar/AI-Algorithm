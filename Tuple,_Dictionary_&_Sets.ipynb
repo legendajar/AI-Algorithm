{
  "nbformat": 4,
  "nbformat_minor": 0,
  "metadata": {
    "colab": {
      "private_outputs": true,
      "provenance": [],
      "authorship_tag": "ABX9TyOQlUWuYZCLVcfwqGNAdFMK",
      "include_colab_link": true
    },
    "kernelspec": {
      "name": "python3",
      "display_name": "Python 3"
    },
    "language_info": {
      "name": "python"
    }
  },
  "cells": [
    {
      "cell_type": "markdown",
      "metadata": {
        "id": "view-in-github",
        "colab_type": "text"
      },
      "source": [
        "<a href=\"https://colab.research.google.com/github/legendajar/AI-Algorithm/blob/main/Tuple%2C_Dictionary_%26_Sets.ipynb\" target=\"_parent\"><img src=\"https://colab.research.google.com/assets/colab-badge.svg\" alt=\"Open In Colab\"/></a>"
      ]
    },
    {
      "cell_type": "markdown",
      "source": [
        "# **Tuples**"
      ],
      "metadata": {
        "id": "dOunX0PJq3Kh"
      }
    },
    {
      "cell_type": "markdown",
      "source": [
        "**Introduction to tuples**"
      ],
      "metadata": {
        "id": "VAMGz_Lh0PHM"
      }
    },
    {
      "cell_type": "code",
      "execution_count": null,
      "metadata": {
        "id": "0pS2Snr8pvLb"
      },
      "outputs": [],
      "source": [
        "a = (1,2)"
      ]
    },
    {
      "cell_type": "code",
      "source": [
        "print(a)"
      ],
      "metadata": {
        "id": "Zu1NhNkQrC2q"
      },
      "execution_count": null,
      "outputs": []
    },
    {
      "cell_type": "code",
      "source": [
        "print(type(a))"
      ],
      "metadata": {
        "id": "PTkN6i4urEZd"
      },
      "execution_count": null,
      "outputs": []
    },
    {
      "cell_type": "code",
      "source": [
        "b,c = 3,4\n",
        "print(b)\n",
        "print(c)\n",
        "\n",
        "e = 5,6\n",
        "print(e)\n",
        "print(type(e))"
      ],
      "metadata": {
        "id": "9Er3BZWBrT8c"
      },
      "execution_count": null,
      "outputs": []
    },
    {
      "cell_type": "code",
      "source": [
        "e"
      ],
      "metadata": {
        "id": "xMIMLqB7rfj-"
      },
      "execution_count": null,
      "outputs": []
    },
    {
      "cell_type": "code",
      "source": [
        "e[0]"
      ],
      "metadata": {
        "id": "b4nBjkyurkZW"
      },
      "execution_count": null,
      "outputs": []
    },
    {
      "cell_type": "code",
      "source": [
        "e[1]"
      ],
      "metadata": {
        "id": "47wNUhZirmA7"
      },
      "execution_count": null,
      "outputs": []
    },
    {
      "cell_type": "code",
      "source": [
        "e[2]"
      ],
      "metadata": {
        "id": "3kNUyO50rnIY"
      },
      "execution_count": null,
      "outputs": []
    },
    {
      "cell_type": "code",
      "source": [
        "e[-2]"
      ],
      "metadata": {
        "id": "WJd413U7rnxD"
      },
      "execution_count": null,
      "outputs": []
    },
    {
      "cell_type": "code",
      "source": [
        "e[-3]"
      ],
      "metadata": {
        "id": "CGc_2RttrttY"
      },
      "execution_count": null,
      "outputs": []
    },
    {
      "cell_type": "code",
      "source": [
        "f = (1,2,3,4,5,6)\n",
        "f[0:3]"
      ],
      "metadata": {
        "id": "uMFK7DRqxIVB"
      },
      "execution_count": null,
      "outputs": []
    },
    {
      "cell_type": "code",
      "source": [
        "f[3:]"
      ],
      "metadata": {
        "id": "AFkuVfLoxMXI"
      },
      "execution_count": null,
      "outputs": []
    },
    {
      "cell_type": "code",
      "source": [
        " f[3] = 34\n"
      ],
      "metadata": {
        "id": "fIWiVoj9xUI6"
      },
      "execution_count": null,
      "outputs": []
    },
    {
      "cell_type": "code",
      "source": [
        "del f"
      ],
      "metadata": {
        "id": "56lE3IfdyiMK"
      },
      "execution_count": null,
      "outputs": []
    },
    {
      "cell_type": "code",
      "source": [
        "f"
      ],
      "metadata": {
        "id": "nVnfge09yr-7"
      },
      "execution_count": null,
      "outputs": []
    },
    {
      "cell_type": "markdown",
      "source": [
        "**Tuple Functions**"
      ],
      "metadata": {
        "id": "dnAd0rFu0Xb7"
      }
    },
    {
      "cell_type": "code",
      "source": [
        "a_1 = (1,2,3)\n",
        "b_1 = 4,5"
      ],
      "metadata": {
        "id": "sqdNXaVkytcU"
      },
      "execution_count": null,
      "outputs": []
    },
    {
      "cell_type": "code",
      "source": [
        "for i in a_1:\n",
        "  print(i)"
      ],
      "metadata": {
        "id": "2SW6Y8U_0tkX"
      },
      "execution_count": null,
      "outputs": []
    },
    {
      "cell_type": "code",
      "source": [
        "1 in a_1"
      ],
      "metadata": {
        "id": "V41RgNEr0wTn"
      },
      "execution_count": null,
      "outputs": []
    },
    {
      "cell_type": "code",
      "source": [
        "1 in b_1"
      ],
      "metadata": {
        "id": "ElDVSUZd02c7"
      },
      "execution_count": null,
      "outputs": []
    },
    {
      "cell_type": "code",
      "source": [
        "len(a_1)"
      ],
      "metadata": {
        "id": "h1m6DZjg1VP1"
      },
      "execution_count": null,
      "outputs": []
    },
    {
      "cell_type": "code",
      "source": [
        "# Concatenation of element of tuples\n",
        "c_1 = a_1 + b_1"
      ],
      "metadata": {
        "id": "Qw-OlvQk3HZn"
      },
      "execution_count": null,
      "outputs": []
    },
    {
      "cell_type": "code",
      "source": [
        "d = (a,b)"
      ],
      "metadata": {
        "id": "1cCpfLmj3RG5"
      },
      "execution_count": null,
      "outputs": []
    },
    {
      "cell_type": "code",
      "source": [
        "c"
      ],
      "metadata": {
        "id": "AcfOD4153Svg"
      },
      "execution_count": null,
      "outputs": []
    },
    {
      "cell_type": "code",
      "source": [
        "d"
      ],
      "metadata": {
        "id": "-byn5wa63dWp"
      },
      "execution_count": null,
      "outputs": []
    },
    {
      "cell_type": "code",
      "source": [
        "a = 1,2\n",
        "b = (4,5)\n",
        "d = a+b\n",
        "print(d)\n",
        "print(d[2])"
      ],
      "metadata": {
        "id": "ejMq6aZK3f2D"
      },
      "execution_count": null,
      "outputs": []
    },
    {
      "cell_type": "code",
      "source": [
        "a = (\"ab\",\"abc\",\"def\")\n",
        "print(min(a))"
      ],
      "metadata": {
        "id": "bJduWwL05tF3"
      },
      "execution_count": null,
      "outputs": []
    },
    {
      "cell_type": "markdown",
      "source": [
        "**Variable length inupt and output**"
      ],
      "metadata": {
        "id": "3f3fEVEn6o28"
      }
    },
    {
      "cell_type": "code",
      "source": [
        "def sum(a_2,b_2,c=0,d=0,e=0):\n",
        "  return a_2 + b_2 + c + d + e"
      ],
      "metadata": {
        "id": "lAQzAUAk5uPi"
      },
      "execution_count": null,
      "outputs": []
    },
    {
      "cell_type": "code",
      "source": [
        "sum(1,2,3,4,5)"
      ],
      "metadata": {
        "id": "I7OMX3dv8BHN"
      },
      "execution_count": null,
      "outputs": []
    },
    {
      "cell_type": "code",
      "source": [
        "def sum2(a,b,*more):\n",
        "  print(a)\n",
        "  print(b)\n",
        "  print(more)"
      ],
      "metadata": {
        "id": "pLaJIULm8J2L"
      },
      "execution_count": null,
      "outputs": []
    },
    {
      "cell_type": "code",
      "source": [
        "sum2(2,3)"
      ],
      "metadata": {
        "id": "Sgsdgzjr9C1Z"
      },
      "execution_count": null,
      "outputs": []
    },
    {
      "cell_type": "code",
      "source": [
        "sum2(2,3,4,5)"
      ],
      "metadata": {
        "id": "2dF9DhDj9E05"
      },
      "execution_count": null,
      "outputs": []
    },
    {
      "cell_type": "code",
      "source": [],
      "metadata": {
        "id": "nVpcljEQ9THM"
      },
      "execution_count": null,
      "outputs": []
    },
    {
      "cell_type": "markdown",
      "source": [
        "# **Dictionary**"
      ],
      "metadata": {
        "id": "YdORPwX4-_jK"
      }
    },
    {
      "cell_type": "markdown",
      "source": [
        "**Introduction to Dictionary**"
      ],
      "metadata": {
        "id": "4RqlOGDr_Dtw"
      }
    },
    {
      "cell_type": "code",
      "source": [
        "a = {\"the\":1,\"a\":5,1000:\"abc\"}"
      ],
      "metadata": {
        "id": "fTHp6mgR4xK8"
      },
      "execution_count": null,
      "outputs": []
    },
    {
      "cell_type": "code",
      "source": [
        "type(a)"
      ],
      "metadata": {
        "id": "Sp_gruMJ41ga"
      },
      "execution_count": null,
      "outputs": []
    },
    {
      "cell_type": "code",
      "source": [
        "print(a)"
      ],
      "metadata": {
        "id": "7CJpxTq242dw"
      },
      "execution_count": null,
      "outputs": []
    },
    {
      "cell_type": "code",
      "source": [
        "len(a)"
      ],
      "metadata": {
        "id": "gMirxNZp5ST9"
      },
      "execution_count": null,
      "outputs": []
    },
    {
      "cell_type": "code",
      "source": [
        "# Another way to create dictionary\n",
        "\n",
        "b = a.copy()"
      ],
      "metadata": {
        "id": "jHdYgDVz5YBg"
      },
      "execution_count": null,
      "outputs": []
    },
    {
      "cell_type": "code",
      "source": [
        "print(b)"
      ],
      "metadata": {
        "id": "evoSsOL05gu_"
      },
      "execution_count": null,
      "outputs": []
    },
    {
      "cell_type": "code",
      "source": [
        "# Third Way to create dictionary\n",
        "c = dict([(\"the\",3),(\"a\",10),(2,3)])"
      ],
      "metadata": {
        "id": "rH73Hu9s5h9r"
      },
      "execution_count": null,
      "outputs": []
    },
    {
      "cell_type": "code",
      "source": [
        "print(c)"
      ],
      "metadata": {
        "id": "2kRv5cha5m26"
      },
      "execution_count": null,
      "outputs": []
    },
    {
      "cell_type": "code",
      "source": [
        "# Fourth way to create dictionary\n",
        "d = dict.fromkeys([\"abc\",32,4])"
      ],
      "metadata": {
        "id": "ug75ZEhj5z-9"
      },
      "execution_count": null,
      "outputs": []
    },
    {
      "cell_type": "code",
      "source": [
        "print(d)"
      ],
      "metadata": {
        "id": "qeiv7KiG53d2"
      },
      "execution_count": null,
      "outputs": []
    },
    {
      "cell_type": "code",
      "source": [
        "e = dict.fromkeys([\"abc\",32,4],10)"
      ],
      "metadata": {
        "id": "SPrGUFQY6Cvr"
      },
      "execution_count": null,
      "outputs": []
    },
    {
      "cell_type": "code",
      "source": [
        "print(e)"
      ],
      "metadata": {
        "id": "kd78KH956tJ0"
      },
      "execution_count": null,
      "outputs": []
    },
    {
      "cell_type": "markdown",
      "source": [
        "**Access/Looping elements in dictionary**"
      ],
      "metadata": {
        "id": "TSQonx0a7csp"
      }
    },
    {
      "cell_type": "code",
      "source": [
        "a = {1:2,3:4,\"list\":[1,23],\"dict\":{1:2}}"
      ],
      "metadata": {
        "id": "1Qju5CEs6vLU"
      },
      "execution_count": null,
      "outputs": []
    },
    {
      "cell_type": "code",
      "source": [
        "print(a)"
      ],
      "metadata": {
        "id": "jGLp-X_o7to5"
      },
      "execution_count": null,
      "outputs": []
    },
    {
      "cell_type": "code",
      "source": [
        "a[0]"
      ],
      "metadata": {
        "id": "Old17sxz7vFE"
      },
      "execution_count": null,
      "outputs": []
    },
    {
      "cell_type": "code",
      "source": [
        "a[1]"
      ],
      "metadata": {
        "id": "LDE3UA4070vp"
      },
      "execution_count": null,
      "outputs": []
    },
    {
      "cell_type": "code",
      "source": [
        "a[3]"
      ],
      "metadata": {
        "id": "ZT8pr8oA72v9"
      },
      "execution_count": null,
      "outputs": []
    },
    {
      "cell_type": "code",
      "source": [
        "a[\"list\"]"
      ],
      "metadata": {
        "id": "l-il3vTl77U0"
      },
      "execution_count": null,
      "outputs": []
    },
    {
      "cell_type": "code",
      "source": [
        "a.get(\"list\")"
      ],
      "metadata": {
        "id": "PqSKpbmx8GXj"
      },
      "execution_count": null,
      "outputs": []
    },
    {
      "cell_type": "code",
      "source": [
        "print(a.get(\"li\"))"
      ],
      "metadata": {
        "id": "ygrf2uTt8WlV"
      },
      "execution_count": null,
      "outputs": []
    },
    {
      "cell_type": "markdown",
      "source": [
        "**Adding or Removing data in Dictionary**"
      ],
      "metadata": {
        "id": "y_aL2bxkHiiS"
      }
    },
    {
      "cell_type": "code",
      "source": [
        "a"
      ],
      "metadata": {
        "id": "XQKVrw8lHqlZ"
      },
      "execution_count": null,
      "outputs": []
    },
    {
      "cell_type": "code",
      "source": [
        "a['tuple']"
      ],
      "metadata": {
        "id": "f0KzUcz9Hzgu"
      },
      "execution_count": null,
      "outputs": []
    },
    {
      "cell_type": "code",
      "source": [
        "# Adding data in dictionary\n",
        "a['tuple'] = (1,2,3)"
      ],
      "metadata": {
        "id": "zgHgfy5SIVDn"
      },
      "execution_count": null,
      "outputs": []
    },
    {
      "cell_type": "code",
      "source": [
        "a"
      ],
      "metadata": {
        "id": "4DIFuJWfIZak"
      },
      "execution_count": null,
      "outputs": []
    },
    {
      "cell_type": "code",
      "source": [
        "# update data in dictionary\n",
        "b = {3:5, 'the':4, 2:100}"
      ],
      "metadata": {
        "id": "FRkf2ORUIalo"
      },
      "execution_count": null,
      "outputs": []
    },
    {
      "cell_type": "code",
      "source": [
        "a.update(b)"
      ],
      "metadata": {
        "id": "sEAYw1UUI9KP"
      },
      "execution_count": null,
      "outputs": []
    },
    {
      "cell_type": "code",
      "source": [
        "a"
      ],
      "metadata": {
        "id": "a6NWOKP1I_6n"
      },
      "execution_count": null,
      "outputs": []
    },
    {
      "cell_type": "code",
      "source": [
        "# Remove data from dictionary"
      ],
      "metadata": {
        "id": "rCjbLukmJSeH"
      },
      "execution_count": null,
      "outputs": []
    },
    {
      "cell_type": "code",
      "source": [
        "a.pop('tuple')"
      ],
      "metadata": {
        "id": "ZELQ7RoCJ4pw"
      },
      "execution_count": null,
      "outputs": []
    },
    {
      "cell_type": "code",
      "source": [
        "a"
      ],
      "metadata": {
        "id": "w-xWP31sJ62G"
      },
      "execution_count": null,
      "outputs": []
    },
    {
      "cell_type": "code",
      "source": [
        "a.pop('tuple')"
      ],
      "metadata": {
        "id": "clTHLbdWJ7XA"
      },
      "execution_count": null,
      "outputs": []
    },
    {
      "cell_type": "code",
      "source": [
        "del a[1]"
      ],
      "metadata": {
        "id": "G4gTi3C2J_gh"
      },
      "execution_count": null,
      "outputs": []
    },
    {
      "cell_type": "code",
      "source": [
        "a"
      ],
      "metadata": {
        "id": "4vivtXLKKIF_"
      },
      "execution_count": null,
      "outputs": []
    },
    {
      "cell_type": "code",
      "source": [
        "a.clear()"
      ],
      "metadata": {
        "id": "g3ylBgRSKI5-"
      },
      "execution_count": null,
      "outputs": []
    },
    {
      "cell_type": "code",
      "source": [
        "a"
      ],
      "metadata": {
        "id": "aOBfk_EDKM7c"
      },
      "execution_count": null,
      "outputs": []
    },
    {
      "cell_type": "code",
      "source": [
        "del a"
      ],
      "metadata": {
        "id": "obsIQ8-HKO9Y"
      },
      "execution_count": null,
      "outputs": []
    },
    {
      "cell_type": "code",
      "source": [],
      "metadata": {
        "id": "0lbLgdhdKQR6"
      },
      "execution_count": null,
      "outputs": []
    },
    {
      "cell_type": "markdown",
      "source": [
        "# **Sets**"
      ],
      "metadata": {
        "id": "uIv6oBf4PN3N"
      }
    },
    {
      "cell_type": "markdown",
      "source": [
        "**Introduction to sets**"
      ],
      "metadata": {
        "id": "fh1f_x7UPNny"
      }
    },
    {
      "cell_type": "code",
      "source": [
        "a = {\"Apple\",\"abc\",23}"
      ],
      "metadata": {
        "id": "ik1rcPywPNTu"
      },
      "execution_count": null,
      "outputs": []
    },
    {
      "cell_type": "code",
      "source": [
        "a"
      ],
      "metadata": {
        "id": "z49vvX1XPNE3"
      },
      "execution_count": null,
      "outputs": []
    },
    {
      "cell_type": "code",
      "source": [
        "type(a)"
      ],
      "metadata": {
        "id": "o8SPPMeLQ4NR"
      },
      "execution_count": null,
      "outputs": []
    },
    {
      "cell_type": "code",
      "source": [
        "a[0]"
      ],
      "metadata": {
        "id": "Pu3qabIhQ8pX"
      },
      "execution_count": null,
      "outputs": []
    },
    {
      "cell_type": "code",
      "source": [
        "a['abc']"
      ],
      "metadata": {
        "id": "MgLXOAoyQ31u"
      },
      "execution_count": null,
      "outputs": []
    },
    {
      "cell_type": "code",
      "source": [
        "s = {1,2,3,5,4,2,3,1}\n",
        "print(len(s),end= \" \")\n",
        "s.add(4)\n",
        "s.add(3)\n",
        "print(len(s))"
      ],
      "metadata": {
        "id": "x8U4aYHYREkx"
      },
      "execution_count": null,
      "outputs": []
    },
    {
      "cell_type": "markdown",
      "source": [
        "# **Problems**"
      ],
      "metadata": {
        "id": "Cq33Bj6YLbjE"
      }
    },
    {
      "cell_type": "markdown",
      "source": [
        "**1. Print all the words with frequency k**"
      ],
      "metadata": {
        "id": "F-kuvXGJLjDj"
      }
    },
    {
      "cell_type": "markdown",
      "source": [
        "\n",
        "\n",
        "```\n",
        "In this we have given a string and from that string, we have print those element with frequency k\n",
        "```\n",
        "\n"
      ],
      "metadata": {
        "id": "9BP8TGlWLi9O"
      }
    },
    {
      "cell_type": "code",
      "source": [
        "s = \"this is a word string having many many word\"\n",
        "k = 2"
      ],
      "metadata": {
        "id": "4J0yxVceMx9T"
      },
      "execution_count": null,
      "outputs": []
    },
    {
      "cell_type": "code",
      "source": [
        "words = s.split()"
      ],
      "metadata": {
        "id": "gb6x0hQwM8Dm"
      },
      "execution_count": null,
      "outputs": []
    },
    {
      "cell_type": "code",
      "source": [
        "words"
      ],
      "metadata": {
        "id": "3RwNOs0DNBBA"
      },
      "execution_count": null,
      "outputs": []
    },
    {
      "cell_type": "code",
      "source": [
        "d = {}\n",
        "for w in words:\n",
        "  if w in d:\n",
        "    d[w] = d[w] + 1\n",
        "  else:\n",
        "    d[w] = 1\n",
        "d"
      ],
      "metadata": {
        "id": "b7NTHW4oLig2"
      },
      "execution_count": null,
      "outputs": []
    },
    {
      "cell_type": "code",
      "source": [
        "dic = {}\n",
        "for w in words:\n",
        "  dic[w] = dic.get(w,0) + 1\n",
        "\n",
        "dic"
      ],
      "metadata": {
        "id": "-tfFVMdsLiRS"
      },
      "execution_count": null,
      "outputs": []
    },
    {
      "cell_type": "code",
      "source": [
        "for w in dic:\n",
        "  if dic[w] == k:\n",
        "    print(w)"
      ],
      "metadata": {
        "id": "svdWYIeRNtOD"
      },
      "execution_count": null,
      "outputs": []
    },
    {
      "cell_type": "code",
      "source": [
        "def printKFreqWords(s,k):\n",
        "  words = s.split()\n",
        "  di = {}\n",
        "  for w in words:\n",
        "    di[w] = di.get(w,0) + 1\n",
        "\n",
        "  for w in di:\n",
        "    if di[w] == k:\n",
        "      print(w)"
      ],
      "metadata": {
        "id": "I_3QLnd4NxeL"
      },
      "execution_count": null,
      "outputs": []
    },
    {
      "cell_type": "code",
      "source": [
        "printKFreqWords(s,3)"
      ],
      "metadata": {
        "id": "-2DI9fimOgXP"
      },
      "execution_count": null,
      "outputs": []
    },
    {
      "cell_type": "markdown",
      "source": [
        "**Sum of all unique numbers in list**"
      ],
      "metadata": {
        "id": "z32QX3DuTxhR"
      }
    },
    {
      "cell_type": "code",
      "source": [
        "def sumUnique(l):\n",
        "  s = set()\n",
        "  for i in l:\n",
        "    s.add(i)\n",
        "  sum = 0\n",
        "  for i in s:\n",
        "    sum = sum + 1\n",
        "  return sum"
      ],
      "metadata": {
        "id": "3RWK9xG7Ok-q"
      },
      "execution_count": null,
      "outputs": []
    },
    {
      "cell_type": "code",
      "source": [
        "sumUnique([1,2,3,4,4,3,4,2,1,5,5])"
      ],
      "metadata": {
        "id": "4it4XbRLUf6T"
      },
      "execution_count": null,
      "outputs": []
    },
    {
      "cell_type": "code",
      "source": [
        "s = {}\n",
        "s.add(4)\n",
        "s.add(4)\n",
        "print(len(s))"
      ],
      "metadata": {
        "id": "cxSfxvlNUm4V"
      },
      "execution_count": null,
      "outputs": []
    },
    {
      "cell_type": "code",
      "source": [],
      "metadata": {
        "id": "9eVaRNP1U1Rk"
      },
      "execution_count": null,
      "outputs": []
    }
  ]
}